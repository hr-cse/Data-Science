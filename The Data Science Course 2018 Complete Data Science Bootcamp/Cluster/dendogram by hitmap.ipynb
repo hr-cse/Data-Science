{
 "cells": [
  {
   "cell_type": "code",
   "execution_count": 1,
   "metadata": {},
   "outputs": [],
   "source": [
    "import numpy as np\n",
    "import pandas as pd\n",
    "import matplotlib.pyplot as plt\n",
    "import seaborn as sns"
   ]
  },
  {
   "cell_type": "code",
   "execution_count": 7,
   "metadata": {},
   "outputs": [],
   "source": [
    "data = pd.read_csv(\"Cluster by district.csv\",index_col = \"District\")"
   ]
  },
  {
   "cell_type": "code",
   "execution_count": 9,
   "metadata": {},
   "outputs": [
    {
     "data": {
      "text/html": [
       "<div>\n",
       "<style scoped>\n",
       "    .dataframe tbody tr th:only-of-type {\n",
       "        vertical-align: middle;\n",
       "    }\n",
       "\n",
       "    .dataframe tbody tr th {\n",
       "        vertical-align: top;\n",
       "    }\n",
       "\n",
       "    .dataframe thead th {\n",
       "        text-align: right;\n",
       "    }\n",
       "</style>\n",
       "<table border=\"1\" class=\"dataframe\">\n",
       "  <thead>\n",
       "    <tr style=\"text-align: right;\">\n",
       "      <th></th>\n",
       "      <th>Latitude</th>\n",
       "      <th>Longitude</th>\n",
       "    </tr>\n",
       "    <tr>\n",
       "      <th>District</th>\n",
       "      <th></th>\n",
       "      <th></th>\n",
       "    </tr>\n",
       "  </thead>\n",
       "  <tbody>\n",
       "    <tr>\n",
       "      <th>Kurigram</th>\n",
       "      <td>25.810347</td>\n",
       "      <td>89.648697</td>\n",
       "    </tr>\n",
       "    <tr>\n",
       "      <th>Jamalpur</th>\n",
       "      <td>24.923025</td>\n",
       "      <td>89.950111</td>\n",
       "    </tr>\n",
       "    <tr>\n",
       "      <th>Saidpur</th>\n",
       "      <td>25.778522</td>\n",
       "      <td>88.897377</td>\n",
       "    </tr>\n",
       "    <tr>\n",
       "      <th>Rangpur</th>\n",
       "      <td>25.744860</td>\n",
       "      <td>89.275589</td>\n",
       "    </tr>\n",
       "    <tr>\n",
       "      <th>Gazipur</th>\n",
       "      <td>23.999941</td>\n",
       "      <td>90.420273</td>\n",
       "    </tr>\n",
       "    <tr>\n",
       "      <th>Narayanganj</th>\n",
       "      <td>23.622641</td>\n",
       "      <td>90.499794</td>\n",
       "    </tr>\n",
       "    <tr>\n",
       "      <th>Dhaka</th>\n",
       "      <td>23.728783</td>\n",
       "      <td>90.393791</td>\n",
       "    </tr>\n",
       "    <tr>\n",
       "      <th>Chittagong</th>\n",
       "      <td>22.341900</td>\n",
       "      <td>91.815536</td>\n",
       "    </tr>\n",
       "    <tr>\n",
       "      <th>Feni</th>\n",
       "      <td>23.015913</td>\n",
       "      <td>91.397583</td>\n",
       "    </tr>\n",
       "    <tr>\n",
       "      <th>Chuadanga</th>\n",
       "      <td>23.643999</td>\n",
       "      <td>88.855637</td>\n",
       "    </tr>\n",
       "    <tr>\n",
       "      <th>Satkhira</th>\n",
       "      <td>22.723406</td>\n",
       "      <td>89.075127</td>\n",
       "    </tr>\n",
       "    <tr>\n",
       "      <th>Jessore</th>\n",
       "      <td>23.170664</td>\n",
       "      <td>89.212418</td>\n",
       "    </tr>\n",
       "  </tbody>\n",
       "</table>\n",
       "</div>"
      ],
      "text/plain": [
       "              Latitude  Longitude\n",
       "District                         \n",
       "Kurigram     25.810347  89.648697\n",
       "Jamalpur     24.923025  89.950111\n",
       "Saidpur      25.778522  88.897377\n",
       "Rangpur      25.744860  89.275589\n",
       "Gazipur      23.999941  90.420273\n",
       "Narayanganj  23.622641  90.499794\n",
       "Dhaka        23.728783  90.393791\n",
       "Chittagong   22.341900  91.815536\n",
       "Feni         23.015913  91.397583\n",
       "Chuadanga    23.643999  88.855637\n",
       "Satkhira     22.723406  89.075127\n",
       "Jessore      23.170664  89.212418"
      ]
     },
     "execution_count": 9,
     "metadata": {},
     "output_type": "execute_result"
    }
   ],
   "source": [
    "x_scaled = data.copy()\n",
    "x_scaled = x_scaled.drop([\"surname\"],axis = 1)\n",
    "x_scaled"
   ]
  },
  {
   "cell_type": "code",
   "execution_count": 12,
   "metadata": {},
   "outputs": [
    {
     "data": {
      "text/plain": [
       "<seaborn.matrix.ClusterGrid at 0x203b6f79f28>"
      ]
     },
     "execution_count": 12,
     "metadata": {},
     "output_type": "execute_result"
    },
    {
     "data": {
      "image/png": "[encoded data removed]",
      "text/plain": [
       "<matplotlib.figure.Figure at 0x203b6f79eb8>"
      ]
     },
     "metadata": {},
     "output_type": "display_data"
    }
   ],
   "source": [
    "sns.clustermap(x_scaled)"
   ]
  },
  {
   "cell_type": "code",
   "execution_count": null,
   "metadata": {},
   "outputs": [],
   "source": []
  }
 ],
 "metadata": {
  "kernelspec": {
   "display_name": "Python 3",
   "language": "python",
   "name": "python3"
  },
  "language_info": {
   "codemirror_mode": {
    "name": "ipython",
    "version": 3
   },
   "file_extension": ".py",
   "mimetype": "text/x-python",
   "name": "python",
   "nbconvert_exporter": "python",
   "pygments_lexer": "ipython3",
   "version": "3.6.4"
  }
 },
 "nbformat": 4,
 "nbformat_minor": 2
}
