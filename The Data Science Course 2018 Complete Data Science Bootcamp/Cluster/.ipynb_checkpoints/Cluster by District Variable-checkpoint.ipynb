{
 "cells": [
  {
   "cell_type": "code",
   "execution_count": 2,
   "metadata": {},
   "outputs": [],
   "source": [
    "import pandas as pd\n",
    "import numpy as np\n",
    "import matplotlib.pyplot as plt\n",
    "import seaborn as sns\n",
    "from sklearn.cluster import KMeans"
   ]
  },
  {
   "cell_type": "code",
   "execution_count": 3,
   "metadata": {},
   "outputs": [
    {
     "data": {
      "text/html": [
       "<div>\n",
       "<style scoped>\n",
       "    .dataframe tbody tr th:only-of-type {\n",
       "        vertical-align: middle;\n",
       "    }\n",
       "\n",
       "    .dataframe tbody tr th {\n",
       "        vertical-align: top;\n",
       "    }\n",
       "\n",
       "    .dataframe thead th {\n",
       "        text-align: right;\n",
       "    }\n",
       "</style>\n",
       "<table border=\"1\" class=\"dataframe\">\n",
       "  <thead>\n",
       "    <tr style=\"text-align: right;\">\n",
       "      <th></th>\n",
       "      <th>District</th>\n",
       "      <th>Latitude</th>\n",
       "      <th>Longitude</th>\n",
       "      <th>surname</th>\n",
       "    </tr>\n",
       "  </thead>\n",
       "  <tbody>\n",
       "    <tr>\n",
       "      <th>0</th>\n",
       "      <td>Kurigram</td>\n",
       "      <td>25.810347</td>\n",
       "      <td>89.648697</td>\n",
       "      <td>North Bengal</td>\n",
       "    </tr>\n",
       "    <tr>\n",
       "      <th>1</th>\n",
       "      <td>Jamalpur</td>\n",
       "      <td>24.923025</td>\n",
       "      <td>89.950111</td>\n",
       "      <td>North Bengal</td>\n",
       "    </tr>\n",
       "    <tr>\n",
       "      <th>2</th>\n",
       "      <td>Saidpur</td>\n",
       "      <td>25.778522</td>\n",
       "      <td>88.897377</td>\n",
       "      <td>North Bengal</td>\n",
       "    </tr>\n",
       "    <tr>\n",
       "      <th>3</th>\n",
       "      <td>Rangpur</td>\n",
       "      <td>25.744860</td>\n",
       "      <td>89.275589</td>\n",
       "      <td>North Bengal</td>\n",
       "    </tr>\n",
       "    <tr>\n",
       "      <th>4</th>\n",
       "      <td>Gazipur</td>\n",
       "      <td>23.999941</td>\n",
       "      <td>90.420273</td>\n",
       "      <td>Dhaka</td>\n",
       "    </tr>\n",
       "    <tr>\n",
       "      <th>5</th>\n",
       "      <td>Narayanganj</td>\n",
       "      <td>23.622641</td>\n",
       "      <td>90.499794</td>\n",
       "      <td>Dhaka</td>\n",
       "    </tr>\n",
       "    <tr>\n",
       "      <th>6</th>\n",
       "      <td>Dhaka</td>\n",
       "      <td>23.728783</td>\n",
       "      <td>90.393791</td>\n",
       "      <td>Dhaka</td>\n",
       "    </tr>\n",
       "    <tr>\n",
       "      <th>7</th>\n",
       "      <td>Chittagong</td>\n",
       "      <td>22.341900</td>\n",
       "      <td>91.815536</td>\n",
       "      <td>South Bengal</td>\n",
       "    </tr>\n",
       "    <tr>\n",
       "      <th>8</th>\n",
       "      <td>Feni</td>\n",
       "      <td>23.015913</td>\n",
       "      <td>91.397583</td>\n",
       "      <td>South Bengal</td>\n",
       "    </tr>\n",
       "    <tr>\n",
       "      <th>9</th>\n",
       "      <td>Chuadanga</td>\n",
       "      <td>23.643999</td>\n",
       "      <td>88.855637</td>\n",
       "      <td>West Bengal</td>\n",
       "    </tr>\n",
       "    <tr>\n",
       "      <th>10</th>\n",
       "      <td>Satkhira</td>\n",
       "      <td>22.723406</td>\n",
       "      <td>89.075127</td>\n",
       "      <td>West Bengal</td>\n",
       "    </tr>\n",
       "    <tr>\n",
       "      <th>11</th>\n",
       "      <td>Jessore</td>\n",
       "      <td>23.170664</td>\n",
       "      <td>89.212418</td>\n",
       "      <td>West Bengal</td>\n",
       "    </tr>\n",
       "  </tbody>\n",
       "</table>\n",
       "</div>"
      ],
      "text/plain": [
       "       District   Latitude  Longitude       surname\n",
       "0      Kurigram  25.810347  89.648697  North Bengal\n",
       "1      Jamalpur  24.923025  89.950111  North Bengal\n",
       "2       Saidpur  25.778522  88.897377  North Bengal\n",
       "3       Rangpur  25.744860  89.275589  North Bengal\n",
       "4       Gazipur  23.999941  90.420273         Dhaka\n",
       "5   Narayanganj  23.622641  90.499794         Dhaka\n",
       "6         Dhaka  23.728783  90.393791         Dhaka\n",
       "7    Chittagong  22.341900  91.815536  South Bengal\n",
       "8          Feni  23.015913  91.397583  South Bengal\n",
       "9     Chuadanga  23.643999  88.855637   West Bengal\n",
       "10     Satkhira  22.723406  89.075127   West Bengal\n",
       "11      Jessore  23.170664  89.212418   West Bengal"
      ]
     },
     "execution_count": 3,
     "metadata": {},
     "output_type": "execute_result"
    }
   ],
   "source": [
    "data = pd.read_csv(\"Cluster by district.csv\")\n",
    "data"
   ]
  },
  {
   "cell_type": "code",
   "execution_count": 4,
   "metadata": {},
   "outputs": [
    {
     "data": {
      "image/png": "[encoded data removed]",
      "text/plain": [
       "<matplotlib.figure.Figure at 0x2588f6def28>"
      ]
     },
     "metadata": {},
     "output_type": "display_data"
    }
   ],
   "source": [
    "plt.scatter(data['Longitude'],data['Latitude'])\n",
    "plt.xlim(88,93)\n",
    "plt.ylim(21,27)\n",
    "plt.show()"
   ]
  },
  {
   "cell_type": "code",
   "execution_count": 5,
   "metadata": {},
   "outputs": [],
   "source": [
    "\n",
    "#data_mapped = data.copy()\n",
    "#data_mapped['Language'] = data_mapped['Language'].map({'English':0,'French':1,'German':2})\n",
    "#data_mapped"
   ]
  },
  {
   "cell_type": "code",
   "execution_count": null,
   "metadata": {},
   "outputs": [],
   "source": []
  },
  {
   "cell_type": "code",
   "execution_count": null,
   "metadata": {},
   "outputs": [],
   "source": []
  },
  {
   "cell_type": "code",
   "execution_count": 6,
   "metadata": {},
   "outputs": [
    {
     "data": {
      "text/html": [
       "<div>\n",
       "<style scoped>\n",
       "    .dataframe tbody tr th:only-of-type {\n",
       "        vertical-align: middle;\n",
       "    }\n",
       "\n",
       "    .dataframe tbody tr th {\n",
       "        vertical-align: top;\n",
       "    }\n",
       "\n",
       "    .dataframe thead th {\n",
       "        text-align: right;\n",
       "    }\n",
       "</style>\n",
       "<table border=\"1\" class=\"dataframe\">\n",
       "  <thead>\n",
       "    <tr style=\"text-align: right;\">\n",
       "      <th></th>\n",
       "      <th>Latitude</th>\n",
       "      <th>Longitude</th>\n",
       "    </tr>\n",
       "  </thead>\n",
       "  <tbody>\n",
       "    <tr>\n",
       "      <th>0</th>\n",
       "      <td>25.810347</td>\n",
       "      <td>89.648697</td>\n",
       "    </tr>\n",
       "    <tr>\n",
       "      <th>1</th>\n",
       "      <td>24.923025</td>\n",
       "      <td>89.950111</td>\n",
       "    </tr>\n",
       "    <tr>\n",
       "      <th>2</th>\n",
       "      <td>25.778522</td>\n",
       "      <td>88.897377</td>\n",
       "    </tr>\n",
       "    <tr>\n",
       "      <th>3</th>\n",
       "      <td>25.744860</td>\n",
       "      <td>89.275589</td>\n",
       "    </tr>\n",
       "    <tr>\n",
       "      <th>4</th>\n",
       "      <td>23.999941</td>\n",
       "      <td>90.420273</td>\n",
       "    </tr>\n",
       "    <tr>\n",
       "      <th>5</th>\n",
       "      <td>23.622641</td>\n",
       "      <td>90.499794</td>\n",
       "    </tr>\n",
       "    <tr>\n",
       "      <th>6</th>\n",
       "      <td>23.728783</td>\n",
       "      <td>90.393791</td>\n",
       "    </tr>\n",
       "    <tr>\n",
       "      <th>7</th>\n",
       "      <td>22.341900</td>\n",
       "      <td>91.815536</td>\n",
       "    </tr>\n",
       "    <tr>\n",
       "      <th>8</th>\n",
       "      <td>23.015913</td>\n",
       "      <td>91.397583</td>\n",
       "    </tr>\n",
       "    <tr>\n",
       "      <th>9</th>\n",
       "      <td>23.643999</td>\n",
       "      <td>88.855637</td>\n",
       "    </tr>\n",
       "    <tr>\n",
       "      <th>10</th>\n",
       "      <td>22.723406</td>\n",
       "      <td>89.075127</td>\n",
       "    </tr>\n",
       "    <tr>\n",
       "      <th>11</th>\n",
       "      <td>23.170664</td>\n",
       "      <td>89.212418</td>\n",
       "    </tr>\n",
       "  </tbody>\n",
       "</table>\n",
       "</div>"
      ],
      "text/plain": [
       "     Latitude  Longitude\n",
       "0   25.810347  89.648697\n",
       "1   24.923025  89.950111\n",
       "2   25.778522  88.897377\n",
       "3   25.744860  89.275589\n",
       "4   23.999941  90.420273\n",
       "5   23.622641  90.499794\n",
       "6   23.728783  90.393791\n",
       "7   22.341900  91.815536\n",
       "8   23.015913  91.397583\n",
       "9   23.643999  88.855637\n",
       "10  22.723406  89.075127\n",
       "11  23.170664  89.212418"
      ]
     },
     "execution_count": 6,
     "metadata": {},
     "output_type": "execute_result"
    }
   ],
   "source": [
    "#iloc er kaj holo data separet kora\n",
    "#x = data_mapped.iloc[:,3:4]\n",
    "x = data.iloc[:,1:3]\n",
    "x"
   ]
  },
  {
   "cell_type": "code",
   "execution_count": 7,
   "metadata": {},
   "outputs": [
    {
     "data": {
      "text/plain": [
       "KMeans(algorithm='auto', copy_x=True, init='k-means++', max_iter=300,\n",
       "    n_clusters=4, n_init=10, n_jobs=1, precompute_distances='auto',\n",
       "    random_state=None, tol=0.0001, verbose=0)"
      ]
     },
     "execution_count": 7,
     "metadata": {},
     "output_type": "execute_result"
    }
   ],
   "source": [
    "kmeans = KMeans(4) #how many cluster we want\n",
    "kmeans.fit(x) #which data use for cluster"
   ]
  },
  {
   "cell_type": "code",
   "execution_count": 8,
   "metadata": {},
   "outputs": [
    {
     "data": {
      "text/plain": [
       "array([0, 0, 0, 0, 1, 1, 1, 2, 2, 3, 3, 3])"
      ]
     },
     "execution_count": 8,
     "metadata": {},
     "output_type": "execute_result"
    }
   ],
   "source": [
    "#cluster result which predic with help of KMeans\n",
    "identified_clusters = kmeans.fit_predict(x)\n",
    "identified_clusters"
   ]
  },
  {
   "cell_type": "code",
   "execution_count": 9,
   "metadata": {},
   "outputs": [
    {
     "data": {
      "text/html": [
       "<div>\n",
       "<style scoped>\n",
       "    .dataframe tbody tr th:only-of-type {\n",
       "        vertical-align: middle;\n",
       "    }\n",
       "\n",
       "    .dataframe tbody tr th {\n",
       "        vertical-align: top;\n",
       "    }\n",
       "\n",
       "    .dataframe thead th {\n",
       "        text-align: right;\n",
       "    }\n",
       "</style>\n",
       "<table border=\"1\" class=\"dataframe\">\n",
       "  <thead>\n",
       "    <tr style=\"text-align: right;\">\n",
       "      <th></th>\n",
       "      <th>District</th>\n",
       "      <th>Latitude</th>\n",
       "      <th>Longitude</th>\n",
       "      <th>surname</th>\n",
       "      <th>Cluster</th>\n",
       "    </tr>\n",
       "  </thead>\n",
       "  <tbody>\n",
       "    <tr>\n",
       "      <th>0</th>\n",
       "      <td>Kurigram</td>\n",
       "      <td>25.810347</td>\n",
       "      <td>89.648697</td>\n",
       "      <td>North Bengal</td>\n",
       "      <td>0</td>\n",
       "    </tr>\n",
       "    <tr>\n",
       "      <th>1</th>\n",
       "      <td>Jamalpur</td>\n",
       "      <td>24.923025</td>\n",
       "      <td>89.950111</td>\n",
       "      <td>North Bengal</td>\n",
       "      <td>0</td>\n",
       "    </tr>\n",
       "    <tr>\n",
       "      <th>2</th>\n",
       "      <td>Saidpur</td>\n",
       "      <td>25.778522</td>\n",
       "      <td>88.897377</td>\n",
       "      <td>North Bengal</td>\n",
       "      <td>0</td>\n",
       "    </tr>\n",
       "    <tr>\n",
       "      <th>3</th>\n",
       "      <td>Rangpur</td>\n",
       "      <td>25.744860</td>\n",
       "      <td>89.275589</td>\n",
       "      <td>North Bengal</td>\n",
       "      <td>0</td>\n",
       "    </tr>\n",
       "    <tr>\n",
       "      <th>4</th>\n",
       "      <td>Gazipur</td>\n",
       "      <td>23.999941</td>\n",
       "      <td>90.420273</td>\n",
       "      <td>Dhaka</td>\n",
       "      <td>1</td>\n",
       "    </tr>\n",
       "    <tr>\n",
       "      <th>5</th>\n",
       "      <td>Narayanganj</td>\n",
       "      <td>23.622641</td>\n",
       "      <td>90.499794</td>\n",
       "      <td>Dhaka</td>\n",
       "      <td>1</td>\n",
       "    </tr>\n",
       "    <tr>\n",
       "      <th>6</th>\n",
       "      <td>Dhaka</td>\n",
       "      <td>23.728783</td>\n",
       "      <td>90.393791</td>\n",
       "      <td>Dhaka</td>\n",
       "      <td>1</td>\n",
       "    </tr>\n",
       "    <tr>\n",
       "      <th>7</th>\n",
       "      <td>Chittagong</td>\n",
       "      <td>22.341900</td>\n",
       "      <td>91.815536</td>\n",
       "      <td>South Bengal</td>\n",
       "      <td>2</td>\n",
       "    </tr>\n",
       "    <tr>\n",
       "      <th>8</th>\n",
       "      <td>Feni</td>\n",
       "      <td>23.015913</td>\n",
       "      <td>91.397583</td>\n",
       "      <td>South Bengal</td>\n",
       "      <td>2</td>\n",
       "    </tr>\n",
       "    <tr>\n",
       "      <th>9</th>\n",
       "      <td>Chuadanga</td>\n",
       "      <td>23.643999</td>\n",
       "      <td>88.855637</td>\n",
       "      <td>West Bengal</td>\n",
       "      <td>3</td>\n",
       "    </tr>\n",
       "    <tr>\n",
       "      <th>10</th>\n",
       "      <td>Satkhira</td>\n",
       "      <td>22.723406</td>\n",
       "      <td>89.075127</td>\n",
       "      <td>West Bengal</td>\n",
       "      <td>3</td>\n",
       "    </tr>\n",
       "    <tr>\n",
       "      <th>11</th>\n",
       "      <td>Jessore</td>\n",
       "      <td>23.170664</td>\n",
       "      <td>89.212418</td>\n",
       "      <td>West Bengal</td>\n",
       "      <td>3</td>\n",
       "    </tr>\n",
       "  </tbody>\n",
       "</table>\n",
       "</div>"
      ],
      "text/plain": [
       "       District   Latitude  Longitude       surname  Cluster\n",
       "0      Kurigram  25.810347  89.648697  North Bengal        0\n",
       "1      Jamalpur  24.923025  89.950111  North Bengal        0\n",
       "2       Saidpur  25.778522  88.897377  North Bengal        0\n",
       "3       Rangpur  25.744860  89.275589  North Bengal        0\n",
       "4       Gazipur  23.999941  90.420273         Dhaka        1\n",
       "5   Narayanganj  23.622641  90.499794         Dhaka        1\n",
       "6         Dhaka  23.728783  90.393791         Dhaka        1\n",
       "7    Chittagong  22.341900  91.815536  South Bengal        2\n",
       "8          Feni  23.015913  91.397583  South Bengal        2\n",
       "9     Chuadanga  23.643999  88.855637   West Bengal        3\n",
       "10     Satkhira  22.723406  89.075127   West Bengal        3\n",
       "11      Jessore  23.170664  89.212418   West Bengal        3"
      ]
     },
     "execution_count": 9,
     "metadata": {},
     "output_type": "execute_result"
    }
   ],
   "source": [
    "#data_with_clusters = data_mapped.copy()\n",
    "data_with_clusters = data.copy()\n",
    "data_with_clusters['Cluster'] = identified_clusters\n",
    "data_with_clusters"
   ]
  },
  {
   "cell_type": "code",
   "execution_count": 10,
   "metadata": {},
   "outputs": [
    {
     "data": {
      "image/png": "[encoded data removed]",
      "text/plain": [
       "<matplotlib.figure.Figure at 0x2588f73c198>"
      ]
     },
     "metadata": {},
     "output_type": "display_data"
    }
   ],
   "source": [
    "plt.scatter(data_with_clusters['Longitude'],data_with_clusters['Latitude'],c = data_with_clusters['Cluster'],cmap = 'rainbow')\n",
    "plt.xlim(88,93)\n",
    "plt.ylim(21,27)\n",
    "plt.show()"
   ]
  },
  {
   "cell_type": "code",
   "execution_count": 11,
   "metadata": {},
   "outputs": [],
   "source": [
    "#elbow method [ use for how much cluster we create]"
   ]
  },
  {
   "cell_type": "code",
   "execution_count": 12,
   "metadata": {},
   "outputs": [
    {
     "data": {
      "text/plain": [
       "2.060393231949648"
      ]
     },
     "execution_count": 12,
     "metadata": {},
     "output_type": "execute_result"
    }
   ],
   "source": [
    "kmeans.inertia_"
   ]
  },
  {
   "cell_type": "code",
   "execution_count": 14,
   "metadata": {},
   "outputs": [],
   "source": [
    "wcss = []\n",
    "for i in range(1,12):\n",
    "    kmeans = KMeans(i)\n",
    "    kmeans.fit(x)\n",
    "    wcss_iter = kmeans.inertia_\n",
    "    wcss.append(wcss_iter)"
   ]
  },
  {
   "cell_type": "code",
   "execution_count": 15,
   "metadata": {},
   "outputs": [
    {
     "data": {
      "text/plain": [
       "[27.150393120129788,\n",
       " 11.684074234069717,\n",
       " 5.164080187801707,\n",
       " 2.060393231949648,\n",
       " 1.169313889564989,\n",
       " 0.7901266337941609,\n",
       " 0.47563751660516074,\n",
       " 0.2629965310063337,\n",
       " 0.15355226238383238,\n",
       " 0.08180319896733157,\n",
       " 0.011251380086498449]"
      ]
     },
     "execution_count": 15,
     "metadata": {},
     "output_type": "execute_result"
    }
   ],
   "source": [
    "wcss"
   ]
  },
  {
   "cell_type": "code",
   "execution_count": 16,
   "metadata": {},
   "outputs": [
    {
     "data": {
      "text/plain": [
       "Text(0,0.5,'Within-cluster sum of squares')"
      ]
     },
     "execution_count": 16,
     "metadata": {},
     "output_type": "execute_result"
    },
    {
     "data": {
      "image/png": "[encoded data removed]",
      "text/plain": [
       "<matplotlib.figure.Figure at 0x2588fea9128>"
      ]
     },
     "metadata": {},
     "output_type": "display_data"
    }
   ],
   "source": [
    "number_clusters = range(1,12)\n",
    "plt.plot(number_clusters,wcss)\n",
    "plt.title('The Elbow Method')\n",
    "plt.xlabel('Number of clusters')\n",
    "plt.ylabel('Within-cluster sum of squares')"
   ]
  },
  {
   "cell_type": "code",
   "execution_count": null,
   "metadata": {},
   "outputs": [],
   "source": []
  }
 ],
 "metadata": {
  "kernelspec": {
   "display_name": "Python 3",
   "language": "python",
   "name": "python3"
  }
 },
 "nbformat": 4,
 "nbformat_minor": 2
}
